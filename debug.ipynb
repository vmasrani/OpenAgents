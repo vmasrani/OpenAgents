{
 "cells": [
  {
   "cell_type": "code",
   "execution_count": 8,
   "metadata": {},
   "outputs": [
    {
     "name": "stderr",
     "output_type": "stream",
     "text": [
      "/Users/vmasrani/miniconda/envs/ml3/lib/python3.10/site-packages/polars/meta/build.py:5: UserWarning: Polars binary is missing!\n",
      "  from polars.utils._polars_version import get_polars_version\n"
     ]
    }
   ],
   "source": [
    "import pandas as pd\n",
    "import flavor\n"
   ]
  },
  {
   "cell_type": "code",
   "execution_count": 9,
   "metadata": {},
   "outputs": [
    {
     "data": {
      "text/html": [
       "<div>\n",
       "<style scoped>\n",
       "    .dataframe tbody tr th:only-of-type {\n",
       "        vertical-align: middle;\n",
       "    }\n",
       "\n",
       "    .dataframe tbody tr th {\n",
       "        vertical-align: top;\n",
       "    }\n",
       "\n",
       "    .dataframe thead th {\n",
       "        text-align: right;\n",
       "    }\n",
       "</style>\n",
       "<table border=\"1\" class=\"dataframe\">\n",
       "  <thead>\n",
       "    <tr style=\"text-align: right;\">\n",
       "      <th></th>\n",
       "      <th>date</th>\n",
       "      <th>value</th>\n",
       "      <th>category</th>\n",
       "      <th>id</th>\n",
       "    </tr>\n",
       "  </thead>\n",
       "  <tbody>\n",
       "    <tr>\n",
       "      <th>0</th>\n",
       "      <td>01-01-2023</td>\n",
       "      <td>100.727824</td>\n",
       "      <td>RED</td>\n",
       "      <td>0</td>\n",
       "    </tr>\n",
       "    <tr>\n",
       "      <th>1</th>\n",
       "      <td>2023-01-02</td>\n",
       "      <td>87.535748</td>\n",
       "      <td>red</td>\n",
       "      <td>1</td>\n",
       "    </tr>\n",
       "    <tr>\n",
       "      <th>2</th>\n",
       "      <td>03-01-2023</td>\n",
       "      <td>104.056852</td>\n",
       "      <td>blue</td>\n",
       "      <td>2</td>\n",
       "    </tr>\n",
       "    <tr>\n",
       "      <th>3</th>\n",
       "      <td>04-01-2023</td>\n",
       "      <td>99.246428</td>\n",
       "      <td>blue</td>\n",
       "      <td>3</td>\n",
       "    </tr>\n",
       "    <tr>\n",
       "      <th>4</th>\n",
       "      <td>2023-01-05</td>\n",
       "      <td>96.415779</td>\n",
       "      <td>BLUE</td>\n",
       "      <td>4</td>\n",
       "    </tr>\n",
       "    <tr>\n",
       "      <th>...</th>\n",
       "      <td>...</td>\n",
       "      <td>...</td>\n",
       "      <td>...</td>\n",
       "      <td>...</td>\n",
       "    </tr>\n",
       "    <tr>\n",
       "      <th>1045</th>\n",
       "      <td>09/26/2024</td>\n",
       "      <td>97.749166</td>\n",
       "      <td>GREEN</td>\n",
       "      <td>634</td>\n",
       "    </tr>\n",
       "    <tr>\n",
       "      <th>1046</th>\n",
       "      <td>01/23/2023</td>\n",
       "      <td>109.578887</td>\n",
       "      <td>BLUE</td>\n",
       "      <td>22</td>\n",
       "    </tr>\n",
       "    <tr>\n",
       "      <th>1047</th>\n",
       "      <td>10/17/2024</td>\n",
       "      <td>75.319019</td>\n",
       "      <td>GREEN</td>\n",
       "      <td>655</td>\n",
       "    </tr>\n",
       "    <tr>\n",
       "      <th>1048</th>\n",
       "      <td>2024-06-04</td>\n",
       "      <td>109.202770</td>\n",
       "      <td>GREEN</td>\n",
       "      <td>520</td>\n",
       "    </tr>\n",
       "    <tr>\n",
       "      <th>1049</th>\n",
       "      <td>2024-04-11</td>\n",
       "      <td>93.307249</td>\n",
       "      <td>red</td>\n",
       "      <td>466</td>\n",
       "    </tr>\n",
       "  </tbody>\n",
       "</table>\n",
       "<p>1050 rows × 4 columns</p>\n",
       "</div>"
      ],
      "text/plain": [
       "            date       value category   id\n",
       "0     01-01-2023  100.727824      RED    0\n",
       "1     2023-01-02   87.535748      red    1\n",
       "2     03-01-2023  104.056852     blue    2\n",
       "3     04-01-2023   99.246428     blue    3\n",
       "4     2023-01-05   96.415779     BLUE    4\n",
       "...          ...         ...      ...  ...\n",
       "1045  09/26/2024   97.749166    GREEN  634\n",
       "1046  01/23/2023  109.578887     BLUE   22\n",
       "1047  10/17/2024   75.319019    GREEN  655\n",
       "1048  2024-06-04  109.202770    GREEN  520\n",
       "1049  2024-04-11   93.307249      red  466\n",
       "\n",
       "[1050 rows x 4 columns]"
      ]
     },
     "execution_count": 9,
     "metadata": {},
     "output_type": "execute_result"
    }
   ],
   "source": [
    "df = pd.read_csv('sample_data.csv')\n",
    "df"
   ]
  },
  {
   "cell_type": "code",
   "execution_count": 3,
   "metadata": {},
   "outputs": [],
   "source": [
    "import pandas as pd\n",
    "from pathlib import Path\n",
    "from openai import OpenAI\n",
    "import json\n",
    "from pydantic import BaseModel\n",
    "from dotenv import load_dotenv\n",
    "completion = client.beta.chat.completions.parse(\n",
    "        model=\"gpt-4o-2024-08-06\",\n",
    "        messages=[\n",
    "            {\n",
    "                \"role\": \"system\",\n",
    "                \"content\": \"\"\"Map CSV headers to standardized clean headers following these rules:\n",
    "                    1. Maintain one-to-one mapping between dirty and clean headers\n",
    "                    2. NO DUPLICATE clean headers allowed\n",
    "                    3. Preserve information when combining fields\n",
    "                       Example: 'job_company_location_street_address' -> 'company_street_address'\n",
    "                    4. Create new headers if no valid match exists\n",
    "                    5. Use CSV row context for better mapping decisions\n",
    "                    6. Preserve original header if already clean\n",
    "                    7. Keep 'zip' and 'postal_code' distinct\n",
    "                    8. All headers m>ust contain a 'email' field (or 'email' and 'work_email' if two email fields are present)\n",
    "                    9. map urls to 'source'\n",
    "                    Return headers in original order.\"\"\"\n",
    "            },\n",
    "            {\n",
    "                \"role\": \"user\",\n",
    "                \"content\": f\"\"\"CSV preview (header may be in first row):\n",
    "                    {first_five}\n",
    "                    Map to these valid headers:\n",
    "                    {valid_headers}\n",
    "                    Return ordered lists of dirty and clean headers.\"\"\"\n",
    "            }\n",
    "        ],\n",
    "        temperature=0.0,\n",
    "        response_format=CleanHeaders\n",
    "    )\n"
   ]
  },
  {
   "cell_type": "code",
   "execution_count": 5,
   "metadata": {},
   "outputs": [
    {
     "data": {
      "text/plain": [
       "ParsedChatCompletion[NoneType](id='chatcmpl-AxN2HCkptDGKdTWxx44NF8QhCycY0', choices=[ParsedChoice[NoneType](finish_reason='stop', index=0, logprobs=None, message=ParsedChatCompletionMessage[NoneType](content='The Moon does not have a capital. It is a natural satellite of Earth and not a sovereign entity or inhabited territory with its own governance system. There have been human missions and landings on the Moon, such as the Apollo missions conducted by NASA, but no permanent settlements or capitals have been established.', refusal=None, role='assistant', audio=None, function_call=None, tool_calls=[], parsed=None))], created=1738713265, model='gpt-4o-2024-08-06', object='chat.completion', service_tier='default', system_fingerprint='fp_50cad350e4', usage=CompletionUsage(completion_tokens=61, prompt_tokens=32, total_tokens=93, completion_tokens_details=CompletionTokensDetails(accepted_prediction_tokens=0, audio_tokens=0, reasoning_tokens=0, rejected_prediction_tokens=0), prompt_tokens_details=PromptTokensDetails(audio_tokens=0, cached_tokens=0)))"
      ]
     },
     "execution_count": 5,
     "metadata": {},
     "output_type": "execute_result"
    }
   ],
   "source": [
    "completion"
   ]
  },
  {
   "cell_type": "code",
   "execution_count": 4,
   "metadata": {},
   "outputs": [
    {
     "data": {
      "text/plain": [
       "<openai.resources.beta.chat.completions.Completions at 0x136f597e0>"
      ]
     },
     "execution_count": 4,
     "metadata": {},
     "output_type": "execute_result"
    }
   ],
   "source": [
    "completions"
   ]
  },
  {
   "cell_type": "code",
   "execution_count": null,
   "metadata": {},
   "outputs": [],
   "source": [
    "\n",
    "\n",
    "import json\n",
    "from ml_helpers import chunks\n",
    "import flavor\n",
    "\n",
    "load_dotenv()\n",
    "client = OpenAI()\n",
    "\n",
    "class CleanHeaders(BaseModel):\n",
    "    dirty_headers: list[str]\n",
    "    clean_headers: list[str]\n",
    "\n",
    "def get_first_n_rows(path: Path, nrows: int = 5) -> pd.DataFrame:\n",
    "    return pd.read_csv(\n",
    "        path,\n",
    "        encoding=\"utf-8\",\n",
    "        encoding_errors='replace',\n",
    "        nrows=nrows\n",
    "    )\n",
    "\n",
    "# 4. Pay special attention to social media fields. Don't lose social media information.\n",
    "def openai_header_clean(first_five, valid_headers):\n",
    "    completion = client.beta.chat.completions.parse(\n",
    "        model=\"gpt-4o-2024-08-06\",\n",
    "        messages=[\n",
    "            {\n",
    "                \"role\": \"system\",\n",
    "                \"content\": \"\"\"Map CSV headers to standardized clean headers following these rules:\n",
    "                    1. Maintain one-to-one mapping between dirty and clean headers\n",
    "                    2. NO DUPLICATE clean headers allowed\n",
    "                    3. Preserve information when combining fields\n",
    "                       Example: 'job_company_location_street_address' -> 'company_street_address'\n",
    "                    4. Create new headers if no valid match exists\n",
    "                    5. Use CSV row context for better mapping decisions\n",
    "                    6. Preserve original header if already clean\n",
    "                    7. Keep 'zip' and 'postal_code' distinct\n",
    "                    8. All headers m>ust contain a 'email' field (or 'email' and 'work_email' if two email fields are present)\n",
    "                    9. map urls to 'source'\n",
    "                    Return headers in original order.\"\"\"\n",
    "            },\n",
    "            {\n",
    "                \"role\": \"user\",\n",
    "                \"content\": f\"\"\"CSV preview (header may be in first row):\n",
    "                    {first_five}\n",
    "\n",
    "                    Map to these valid headers:\n",
    "                    {valid_headers}\n",
    "\n",
    "                    Return ordered lists of dirty and clean headers.\"\"\"\n",
    "            }\n",
    "        ],\n",
    "        temperature=0.0,\n",
    "        response_format=CleanHeaders\n",
    "    )\n",
    "\n",
    "    message = completion.choices[0].message\n",
    "    if message.parsed:\n",
    "        return pd.DataFrame({\n",
    "            'dirty_headers': message.parsed.dirty_headers,\n",
    "            'clean_headers': message.parsed.clean_headers,\n",
    "        })\n",
    "    else:\n",
    "        print(message.refusal)"
   ]
  }
 ],
 "metadata": {
  "kernelspec": {
   "display_name": "ml3",
   "language": "python",
   "name": "python3"
  },
  "language_info": {
   "codemirror_mode": {
    "name": "ipython",
    "version": 3
   },
   "file_extension": ".py",
   "mimetype": "text/x-python",
   "name": "python",
   "nbconvert_exporter": "python",
   "pygments_lexer": "ipython3",
   "version": "3.10.13"
  }
 },
 "nbformat": 4,
 "nbformat_minor": 2
}
